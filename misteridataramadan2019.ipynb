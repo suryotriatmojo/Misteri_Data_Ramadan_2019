{
 "cells": [
  {
   "cell_type": "markdown",
   "metadata": {},
   "source": [
    "## 1. Terms\n",
    "\n",
    "Untuk menjawab soal di atas, perlu menyamakan terms agar konteksnya jelas:\n",
    "1. Jabodetabek = meliputi Jakbar, Jakpus, Jaktim, Jaksel, Jakut, Kot/Kab Bekasi, Tangerang, Tangsel, Bogor, Depok\n",
    "2. Mudik = tidak berada di Jabodetabek saat masa libur lebaran (terhitung 30 Mei selama 2 minggu)\n",
    "3. Mudik Lebaran = tidak berada di Jabodetabek saat hari-H Lebaran (5 Juni)\n",
    "4. Banyak Mudik = jumlah hari saat di luar Jabodetadek dalam masa libur lebaran\n",
    "5. Lapis Legit Zulaikha = oleh2 khas Medan"
   ]
  },
  {
   "cell_type": "markdown",
   "metadata": {},
   "source": [
    "## 2. Eksplorasi Data\n",
    "\n",
    "Disediakan 2 buah data karyawan *__TokoLapak__* dalam file csv"
   ]
  },
  {
   "cell_type": "code",
   "execution_count": 1,
   "metadata": {},
   "outputs": [
    {
     "data": {
      "text/html": [
       "<div>\n",
       "<style scoped>\n",
       "    .dataframe tbody tr th:only-of-type {\n",
       "        vertical-align: middle;\n",
       "    }\n",
       "\n",
       "    .dataframe tbody tr th {\n",
       "        vertical-align: top;\n",
       "    }\n",
       "\n",
       "    .dataframe thead th {\n",
       "        text-align: right;\n",
       "    }\n",
       "</style>\n",
       "<table border=\"1\" class=\"dataframe\">\n",
       "  <thead>\n",
       "    <tr style=\"text-align: right;\">\n",
       "      <th></th>\n",
       "      <th>id</th>\n",
       "      <th>jenis_kelamin</th>\n",
       "      <th>divisi</th>\n",
       "      <th>umur</th>\n",
       "    </tr>\n",
       "  </thead>\n",
       "  <tbody>\n",
       "    <tr>\n",
       "      <th>0</th>\n",
       "      <td>1</td>\n",
       "      <td>Laki-laki</td>\n",
       "      <td>Customer Service</td>\n",
       "      <td>34</td>\n",
       "    </tr>\n",
       "    <tr>\n",
       "      <th>1</th>\n",
       "      <td>2</td>\n",
       "      <td>Laki-laki</td>\n",
       "      <td>Data Engineer</td>\n",
       "      <td>26</td>\n",
       "    </tr>\n",
       "    <tr>\n",
       "      <th>2</th>\n",
       "      <td>3</td>\n",
       "      <td>Laki-laki</td>\n",
       "      <td>Software Engineer</td>\n",
       "      <td>28</td>\n",
       "    </tr>\n",
       "    <tr>\n",
       "      <th>3</th>\n",
       "      <td>4</td>\n",
       "      <td>Perempuan</td>\n",
       "      <td>Business Intelligence</td>\n",
       "      <td>21</td>\n",
       "    </tr>\n",
       "    <tr>\n",
       "      <th>4</th>\n",
       "      <td>5</td>\n",
       "      <td>Perempuan</td>\n",
       "      <td>Software Engineer</td>\n",
       "      <td>21</td>\n",
       "    </tr>\n",
       "  </tbody>\n",
       "</table>\n",
       "</div>"
      ],
      "text/plain": [
       "   id jenis_kelamin                 divisi  umur\n",
       "0   1     Laki-laki       Customer Service    34\n",
       "1   2     Laki-laki          Data Engineer    26\n",
       "2   3     Laki-laki      Software Engineer    28\n",
       "3   4     Perempuan  Business Intelligence    21\n",
       "4   5     Perempuan      Software Engineer    21"
      ]
     },
     "metadata": {},
     "output_type": "display_data"
    },
    {
     "data": {
      "text/html": [
       "<div>\n",
       "<style scoped>\n",
       "    .dataframe tbody tr th:only-of-type {\n",
       "        vertical-align: middle;\n",
       "    }\n",
       "\n",
       "    .dataframe tbody tr th {\n",
       "        vertical-align: top;\n",
       "    }\n",
       "\n",
       "    .dataframe thead th {\n",
       "        text-align: right;\n",
       "    }\n",
       "</style>\n",
       "<table border=\"1\" class=\"dataframe\">\n",
       "  <thead>\n",
       "    <tr style=\"text-align: right;\">\n",
       "      <th></th>\n",
       "      <th>id</th>\n",
       "      <th>tanggal</th>\n",
       "      <th>lokasi_dominan</th>\n",
       "    </tr>\n",
       "  </thead>\n",
       "  <tbody>\n",
       "    <tr>\n",
       "      <th>0</th>\n",
       "      <td>1</td>\n",
       "      <td>21/05/19</td>\n",
       "      <td>Jakarta Pusat</td>\n",
       "    </tr>\n",
       "    <tr>\n",
       "      <th>1</th>\n",
       "      <td>2</td>\n",
       "      <td>21/05/19</td>\n",
       "      <td>Kabupaten Bogor</td>\n",
       "    </tr>\n",
       "    <tr>\n",
       "      <th>2</th>\n",
       "      <td>3</td>\n",
       "      <td>21/05/19</td>\n",
       "      <td>Jakarta Pusat</td>\n",
       "    </tr>\n",
       "    <tr>\n",
       "      <th>3</th>\n",
       "      <td>4</td>\n",
       "      <td>21/05/19</td>\n",
       "      <td>Kota Tangerang</td>\n",
       "    </tr>\n",
       "    <tr>\n",
       "      <th>4</th>\n",
       "      <td>5</td>\n",
       "      <td>21/05/19</td>\n",
       "      <td>Kota Bogor</td>\n",
       "    </tr>\n",
       "  </tbody>\n",
       "</table>\n",
       "</div>"
      ],
      "text/plain": [
       "   id   tanggal   lokasi_dominan\n",
       "0   1  21/05/19    Jakarta Pusat\n",
       "1   2  21/05/19  Kabupaten Bogor\n",
       "2   3  21/05/19    Jakarta Pusat\n",
       "3   4  21/05/19   Kota Tangerang\n",
       "4   5  21/05/19       Kota Bogor"
      ]
     },
     "metadata": {},
     "output_type": "display_data"
    }
   ],
   "source": [
    "# import modul\n",
    "import pandas as pd\n",
    "import matplotlib.pyplot as plt\n",
    "from datetime import datetime\n",
    "%matplotlib inline\n",
    "\n",
    "# baca datasets\n",
    "profil = pd.read_csv('datasets/data_profil.csv')\n",
    "lokasi = pd.read_csv('datasets/catatan_lokasi.csv')\n",
    "\n",
    "display(profil.head())\n",
    "display(lokasi.head())"
   ]
  },
  {
   "cell_type": "code",
   "execution_count": 2,
   "metadata": {},
   "outputs": [
    {
     "data": {
      "text/plain": [
       "Laki-laki    68\n",
       "Perempuan    32\n",
       "Name: jenis_kelamin, dtype: int64"
      ]
     },
     "execution_count": 2,
     "metadata": {},
     "output_type": "execute_result"
    }
   ],
   "source": [
    "gender = profil['jenis_kelamin'].value_counts()\n",
    "gender"
   ]
  },
  {
   "cell_type": "code",
   "execution_count": 3,
   "metadata": {},
   "outputs": [
    {
     "data": {
      "text/plain": [
       "Software Engineer        31\n",
       "Business Intelligence    21\n",
       "Customer Service         15\n",
       "Data Engineer            14\n",
       "Data Science             10\n",
       "Marketing                 9\n",
       "Name: divisi, dtype: int64"
      ]
     },
     "execution_count": 3,
     "metadata": {},
     "output_type": "execute_result"
    }
   ],
   "source": [
    "profil['divisi'].value_counts()"
   ]
  },
  {
   "cell_type": "code",
   "execution_count": 4,
   "metadata": {},
   "outputs": [
    {
     "data": {
      "image/png": "[encoded data removed]",
      "text/plain": [
       "<Figure size 432x288 with 1 Axes>"
      ]
     },
     "metadata": {},
     "output_type": "display_data"
    }
   ],
   "source": [
    "plt.pie(gender, autopct='%1.1f%%', textprops={'color': 'w'})\n",
    "plt.title('Jumlah Karyawan TokoLapak Berdasarkan Jenis Kelamin\\n Total Karyawan = 100')\n",
    "plt.legend(profil['jenis_kelamin'], loc = 6);"
   ]
  },
  {
   "cell_type": "code",
   "execution_count": 5,
   "metadata": {},
   "outputs": [
    {
     "data": {
      "text/html": [
       "<div>\n",
       "<style scoped>\n",
       "    .dataframe tbody tr th:only-of-type {\n",
       "        vertical-align: middle;\n",
       "    }\n",
       "\n",
       "    .dataframe tbody tr th {\n",
       "        vertical-align: top;\n",
       "    }\n",
       "\n",
       "    .dataframe thead th {\n",
       "        text-align: right;\n",
       "    }\n",
       "</style>\n",
       "<table border=\"1\" class=\"dataframe\">\n",
       "  <thead>\n",
       "    <tr style=\"text-align: right;\">\n",
       "      <th></th>\n",
       "      <th>divisi</th>\n",
       "      <th>jumlah_karyawan</th>\n",
       "    </tr>\n",
       "  </thead>\n",
       "  <tbody>\n",
       "    <tr>\n",
       "      <th>0</th>\n",
       "      <td>Software Engineer</td>\n",
       "      <td>31</td>\n",
       "    </tr>\n",
       "    <tr>\n",
       "      <th>1</th>\n",
       "      <td>Business Intelligence</td>\n",
       "      <td>21</td>\n",
       "    </tr>\n",
       "    <tr>\n",
       "      <th>2</th>\n",
       "      <td>Customer Service</td>\n",
       "      <td>15</td>\n",
       "    </tr>\n",
       "    <tr>\n",
       "      <th>3</th>\n",
       "      <td>Data Engineer</td>\n",
       "      <td>14</td>\n",
       "    </tr>\n",
       "    <tr>\n",
       "      <th>4</th>\n",
       "      <td>Data Science</td>\n",
       "      <td>10</td>\n",
       "    </tr>\n",
       "    <tr>\n",
       "      <th>5</th>\n",
       "      <td>Marketing</td>\n",
       "      <td>9</td>\n",
       "    </tr>\n",
       "  </tbody>\n",
       "</table>\n",
       "</div>"
      ],
      "text/plain": [
       "                  divisi  jumlah_karyawan\n",
       "0      Software Engineer               31\n",
       "1  Business Intelligence               21\n",
       "2       Customer Service               15\n",
       "3          Data Engineer               14\n",
       "4           Data Science               10\n",
       "5              Marketing                9"
      ]
     },
     "execution_count": 5,
     "metadata": {},
     "output_type": "execute_result"
    }
   ],
   "source": [
    "divisi = profil.groupby('divisi', as_index = False).count().sort_values('jenis_kelamin', ascending = False).reset_index()\n",
    "divisi = divisi[['divisi', 'jenis_kelamin']]\n",
    "divisi.rename(columns = {'jenis_kelamin': 'jumlah_karyawan'}, inplace = True)\n",
    "divisi"
   ]
  },
  {
   "cell_type": "code",
   "execution_count": 6,
   "metadata": {
    "scrolled": true
   },
   "outputs": [
    {
     "data": {
      "image/png": "[encoded data removed]",
      "text/plain": [
       "<Figure size 1080x360 with 1 Axes>"
      ]
     },
     "metadata": {
      "needs_background": "light"
     },
     "output_type": "display_data"
    }
   ],
   "source": [
    "plt.figure(figsize=(15,5))\n",
    "colors = ['g', 'b', 'y', 'r', 'k', 'orange']\n",
    "plt.bar(divisi['divisi'], divisi['jumlah_karyawan'], color = colors)\n",
    "plt.title('Jumlah Karyawan TokoLapak berdasarkan Divisi')\n",
    "plt.ylabel('Jumlah Karyawan')\n",
    "\n",
    "for i in range(len(divisi)):\n",
    "    plt.text(divisi['divisi'][i], divisi['jumlah_karyawan'][i] + 0.2, divisi['jumlah_karyawan'][i])"
   ]
  },
  {
   "cell_type": "code",
   "execution_count": 7,
   "metadata": {},
   "outputs": [
    {
     "data": {
      "image/png": "[encoded data removed]",
      "text/plain": [
       "<Figure size 432x288 with 1 Axes>"
      ]
     },
     "metadata": {
      "needs_background": "light"
     },
     "output_type": "display_data"
    }
   ],
   "source": [
    "plt.hist(profil['umur'], bins = len(profil), width = 0.6)\n",
    "plt.title('Persebaran Umur Karyawan TokoLapak')\n",
    "plt.xticks(profil['umur'])\n",
    "plt.ylabel('Jumlah Karyawan');"
   ]
  },
  {
   "cell_type": "markdown",
   "metadata": {},
   "source": [
    "Dari eksplorasi data di atas dapat disimpulkan bahwa:\n",
    "1. Jumlah total karyawan = 100 orang\n",
    "2. Jumlah karyawan laki - laki = 68 orang dan jumlah karyawan perempuan = 32 orang\n",
    "3. Divisi dengan jumlah karyawan terbanyak = Software Engineer, berjumlah = 31 orang\n",
    "4. Persebaran umur karyawan cukup merata namun cukup didominasi oleh umur < 30"
   ]
  },
  {
   "cell_type": "markdown",
   "metadata": {},
   "source": [
    "## Menjawab Persoalan\n",
    "\n",
    "### 1. Jumlah karyawan TokoLapak yang melakukan mudik 2019"
   ]
  },
  {
   "cell_type": "code",
   "execution_count": 8,
   "metadata": {},
   "outputs": [
    {
     "data": {
      "text/html": [
       "<div>\n",
       "<style scoped>\n",
       "    .dataframe tbody tr th:only-of-type {\n",
       "        vertical-align: middle;\n",
       "    }\n",
       "\n",
       "    .dataframe tbody tr th {\n",
       "        vertical-align: top;\n",
       "    }\n",
       "\n",
       "    .dataframe thead th {\n",
       "        text-align: right;\n",
       "    }\n",
       "</style>\n",
       "<table border=\"1\" class=\"dataframe\">\n",
       "  <thead>\n",
       "    <tr style=\"text-align: right;\">\n",
       "      <th></th>\n",
       "      <th>tidak_mudik</th>\n",
       "      <th>jumlah_mudik</th>\n",
       "    </tr>\n",
       "  </thead>\n",
       "  <tbody>\n",
       "    <tr>\n",
       "      <th>0</th>\n",
       "      <td>False</td>\n",
       "      <td>91</td>\n",
       "    </tr>\n",
       "    <tr>\n",
       "      <th>1</th>\n",
       "      <td>True</td>\n",
       "      <td>9</td>\n",
       "    </tr>\n",
       "  </tbody>\n",
       "</table>\n",
       "</div>"
      ],
      "text/plain": [
       "   tidak_mudik  jumlah_mudik\n",
       "0        False            91\n",
       "1         True             9"
      ]
     },
     "execution_count": 8,
     "metadata": {},
     "output_type": "execute_result"
    }
   ],
   "source": [
    "lokasi_lebaran = lokasi[lokasi['tanggal'] == '05/06/19']\n",
    "jabodetabek = lokasi_lebaran['lokasi_dominan'].str.contains('Jakarta|Bogor|Depok|Tangerang|Bekasi')\n",
    "\n",
    "# jumlah karyawan yg di Jabodetabek = tidak mudik\n",
    "jabodetabek_mudik = jabodetabek.value_counts().reset_index()\n",
    "jabodetabek_mudik['jumlah_mudik'] = jabodetabek_mudik['lokasi_dominan']\n",
    "jabodetabek_mudik['tidak_mudik'] = jabodetabek_mudik['index']\n",
    "jabodetabek_mudik[['tidak_mudik', 'jumlah_mudik']]"
   ]
  },
  {
   "cell_type": "markdown",
   "metadata": {},
   "source": [
    "Kesimpulan, pada hari-H Lebaran, jumlah karyawan yang:\n",
    "1. Tidak mudik (di Jabodetabek) = 9 orang\n",
    "2. __Mudik (di luar Jabodetabek)= 91 orang__"
   ]
  },
  {
   "cell_type": "markdown",
   "metadata": {},
   "source": [
    "### 2. Lima kota/kab tujuan mudik tertinggi"
   ]
  },
  {
   "cell_type": "code",
   "execution_count": 9,
   "metadata": {},
   "outputs": [
    {
     "data": {
      "text/html": [
       "<div>\n",
       "<style scoped>\n",
       "    .dataframe tbody tr th:only-of-type {\n",
       "        vertical-align: middle;\n",
       "    }\n",
       "\n",
       "    .dataframe tbody tr th {\n",
       "        vertical-align: top;\n",
       "    }\n",
       "\n",
       "    .dataframe thead th {\n",
       "        text-align: right;\n",
       "    }\n",
       "</style>\n",
       "<table border=\"1\" class=\"dataframe\">\n",
       "  <thead>\n",
       "    <tr style=\"text-align: right;\">\n",
       "      <th></th>\n",
       "      <th>lokasi_dominan</th>\n",
       "      <th>jumlah_mudik</th>\n",
       "    </tr>\n",
       "  </thead>\n",
       "  <tbody>\n",
       "    <tr>\n",
       "      <th>0</th>\n",
       "      <td>Kabupaten Sleman</td>\n",
       "      <td>14</td>\n",
       "    </tr>\n",
       "    <tr>\n",
       "      <th>1</th>\n",
       "      <td>Kota Yogyakarta</td>\n",
       "      <td>11</td>\n",
       "    </tr>\n",
       "    <tr>\n",
       "      <th>2</th>\n",
       "      <td>Kota Medan</td>\n",
       "      <td>9</td>\n",
       "    </tr>\n",
       "    <tr>\n",
       "      <th>3</th>\n",
       "      <td>Kota Padang</td>\n",
       "      <td>8</td>\n",
       "    </tr>\n",
       "    <tr>\n",
       "      <th>4</th>\n",
       "      <td>Kabupaten Lampung Selatan</td>\n",
       "      <td>7</td>\n",
       "    </tr>\n",
       "  </tbody>\n",
       "</table>\n",
       "</div>"
      ],
      "text/plain": [
       "              lokasi_dominan  jumlah_mudik\n",
       "0           Kabupaten Sleman            14\n",
       "1            Kota Yogyakarta            11\n",
       "2                 Kota Medan             9\n",
       "3                Kota Padang             8\n",
       "4  Kabupaten Lampung Selatan             7"
      ]
     },
     "execution_count": 9,
     "metadata": {},
     "output_type": "execute_result"
    }
   ],
   "source": [
    "df_mudik = lokasi_lebaran[-jabodetabek]\n",
    "df_mudik_lok = df_mudik['lokasi_dominan'].value_counts().head(5).reset_index()\n",
    "df_mudik_lok['jumlah_mudik'] = df_mudik_lok['lokasi_dominan']\n",
    "df_mudik_lok['lokasi_dominan'] = df_mudik_lok['index']\n",
    "df_mudik_lok[['lokasi_dominan', 'jumlah_mudik']]"
   ]
  },
  {
   "cell_type": "code",
   "execution_count": 10,
   "metadata": {},
   "outputs": [
    {
     "data": {
      "image/png": "[encoded data removed]",
      "text/plain": [
       "<Figure size 1080x360 with 1 Axes>"
      ]
     },
     "metadata": {
      "needs_background": "light"
     },
     "output_type": "display_data"
    }
   ],
   "source": [
    "colors = ['g', 'b', 'y', 'r', 'k']\n",
    "plt.figure(figsize=(15,5))\n",
    "plt.bar(df_mudik_lok['lokasi_dominan'], df_mudik_lok['jumlah_mudik'], color = colors)\n",
    "plt.title('5 Kota/ Kab Dominan Destinasi Mudik')\n",
    "plt.ylabel('Jumlah Karyawan')\n",
    "\n",
    "for j in range(len(df_mudik_lok)):\n",
    "    plt.text(df_mudik_lok['lokasi_dominan'][j], df_mudik_lok['jumlah_mudik'][j] + 0.2, df_mudik_lok['jumlah_mudik'][j]);"
   ]
  },
  {
   "cell_type": "markdown",
   "metadata": {},
   "source": [
    "5 Kota/ Kab yang menjadi destinasi terbanyak dari karyawan TokoLapak adalah:\n",
    "1. Kab. Sleman = 14 orang\n",
    "2. Kota Yogyakarta = 11 orang\n",
    "3. Kota Medan = 9 orang\n",
    "4. Kota Padang = 8 orang\n",
    "5. Kab. Lampung Selatan = 7 orang"
   ]
  },
  {
   "cell_type": "markdown",
   "metadata": {},
   "source": [
    "### 3. Hari saat karyawan paling banyak mudik"
   ]
  },
  {
   "cell_type": "code",
   "execution_count": 11,
   "metadata": {},
   "outputs": [
    {
     "data": {
      "text/html": [
       "<div>\n",
       "<style scoped>\n",
       "    .dataframe tbody tr th:only-of-type {\n",
       "        vertical-align: middle;\n",
       "    }\n",
       "\n",
       "    .dataframe tbody tr th {\n",
       "        vertical-align: top;\n",
       "    }\n",
       "\n",
       "    .dataframe thead th {\n",
       "        text-align: right;\n",
       "    }\n",
       "</style>\n",
       "<table border=\"1\" class=\"dataframe\">\n",
       "  <thead>\n",
       "    <tr style=\"text-align: right;\">\n",
       "      <th></th>\n",
       "      <th>tanggal</th>\n",
       "      <th>jumlah_mudik</th>\n",
       "    </tr>\n",
       "  </thead>\n",
       "  <tbody>\n",
       "    <tr>\n",
       "      <th>0</th>\n",
       "      <td>03/06/19</td>\n",
       "      <td>93</td>\n",
       "    </tr>\n",
       "    <tr>\n",
       "      <th>1</th>\n",
       "      <td>05/06/19</td>\n",
       "      <td>91</td>\n",
       "    </tr>\n",
       "    <tr>\n",
       "      <th>2</th>\n",
       "      <td>04/06/19</td>\n",
       "      <td>91</td>\n",
       "    </tr>\n",
       "    <tr>\n",
       "      <th>3</th>\n",
       "      <td>02/06/19</td>\n",
       "      <td>83</td>\n",
       "    </tr>\n",
       "    <tr>\n",
       "      <th>4</th>\n",
       "      <td>01/06/19</td>\n",
       "      <td>73</td>\n",
       "    </tr>\n",
       "    <tr>\n",
       "      <th>5</th>\n",
       "      <td>31/05/19</td>\n",
       "      <td>58</td>\n",
       "    </tr>\n",
       "    <tr>\n",
       "      <th>6</th>\n",
       "      <td>30/05/19</td>\n",
       "      <td>34</td>\n",
       "    </tr>\n",
       "    <tr>\n",
       "      <th>7</th>\n",
       "      <td>29/05/19</td>\n",
       "      <td>19</td>\n",
       "    </tr>\n",
       "    <tr>\n",
       "      <th>8</th>\n",
       "      <td>28/05/19</td>\n",
       "      <td>9</td>\n",
       "    </tr>\n",
       "    <tr>\n",
       "      <th>9</th>\n",
       "      <td>26/05/19</td>\n",
       "      <td>5</td>\n",
       "    </tr>\n",
       "    <tr>\n",
       "      <th>10</th>\n",
       "      <td>27/05/19</td>\n",
       "      <td>5</td>\n",
       "    </tr>\n",
       "    <tr>\n",
       "      <th>11</th>\n",
       "      <td>23/05/19</td>\n",
       "      <td>3</td>\n",
       "    </tr>\n",
       "    <tr>\n",
       "      <th>12</th>\n",
       "      <td>25/05/19</td>\n",
       "      <td>2</td>\n",
       "    </tr>\n",
       "    <tr>\n",
       "      <th>13</th>\n",
       "      <td>24/05/19</td>\n",
       "      <td>2</td>\n",
       "    </tr>\n",
       "  </tbody>\n",
       "</table>\n",
       "</div>"
      ],
      "text/plain": [
       "     tanggal  jumlah_mudik\n",
       "0   03/06/19            93\n",
       "1   05/06/19            91\n",
       "2   04/06/19            91\n",
       "3   02/06/19            83\n",
       "4   01/06/19            73\n",
       "5   31/05/19            58\n",
       "6   30/05/19            34\n",
       "7   29/05/19            19\n",
       "8   28/05/19             9\n",
       "9   26/05/19             5\n",
       "10  27/05/19             5\n",
       "11  23/05/19             3\n",
       "12  25/05/19             2\n",
       "13  24/05/19             2"
      ]
     },
     "execution_count": 11,
     "metadata": {},
     "output_type": "execute_result"
    }
   ],
   "source": [
    "tidak_mudik = lokasi['lokasi_dominan'].str.contains('Jakarta|Bogor|Depok|Tangerang|Bekasi')\n",
    "mudik = lokasi[-tidak_mudik]\n",
    "mudik = mudik['tanggal'].value_counts().reset_index()\n",
    "mudik['jumlah_mudik'] = mudik['tanggal']\n",
    "mudik['tanggal'] = mudik['index']\n",
    "mudik[['tanggal', 'jumlah_mudik']]"
   ]
  },
  {
   "cell_type": "code",
   "execution_count": 12,
   "metadata": {},
   "outputs": [
    {
     "name": "stderr",
     "output_type": "stream",
     "text": [
      "/Library/Frameworks/Python.framework/Versions/3.7/lib/python3.7/site-packages/ipykernel_launcher.py:2: SettingWithCopyWarning: \n",
      "A value is trying to be set on a copy of a slice from a DataFrame\n",
      "\n",
      "See the caveats in the documentation: http://pandas.pydata.org/pandas-docs/stable/indexing.html#indexing-view-versus-copy\n",
      "  \n",
      "/Library/Frameworks/Python.framework/Versions/3.7/lib/python3.7/site-packages/pandas/plotting/_converter.py:129: FutureWarning: Using an implicitly registered datetime converter for a matplotlib plotting method. The converter was registered by pandas on import. Future versions of pandas will require you to explicitly register matplotlib converters.\n",
      "\n",
      "To register the converters:\n",
      "\t>>> from pandas.plotting import register_matplotlib_converters\n",
      "\t>>> register_matplotlib_converters()\n",
      "  warnings.warn(msg, FutureWarning)\n"
     ]
    },
    {
     "data": {
      "image/png": "[encoded data removed]",
      "text/plain": [
       "<Figure size 1080x360 with 1 Axes>"
      ]
     },
     "metadata": {
      "needs_background": "light"
     },
     "output_type": "display_data"
    }
   ],
   "source": [
    "for x in range(len(mudik)):\n",
    "    mudik['tanggal'][x] = datetime.strptime(mudik['tanggal'][x], '%d/%m/%y')\n",
    "\n",
    "tanggal_urut = mudik.sort_values('tanggal')\n",
    "\n",
    "\n",
    "plt.figure(figsize=(15,5))\n",
    "plt.plot(tanggal_urut['tanggal'], tanggal_urut['jumlah_mudik'])\n",
    "plt.title('Grafik Tanggal Mudik Lebaran Karyawan TokoLapak')\n",
    "plt.ylabel('Jumlah Karyawan');"
   ]
  },
  {
   "cell_type": "markdown",
   "metadata": {},
   "source": [
    "Hari saat karyawan mudik terbanyak adalah __Senin tanggal 3 Juni 2019__"
   ]
  },
  {
   "cell_type": "markdown",
   "metadata": {},
   "source": [
    "### 4. Divisi yang karyawannya paling banyak mudik"
   ]
  },
  {
   "cell_type": "code",
   "execution_count": 13,
   "metadata": {},
   "outputs": [
    {
     "data": {
      "text/html": [
       "<div>\n",
       "<style scoped>\n",
       "    .dataframe tbody tr th:only-of-type {\n",
       "        vertical-align: middle;\n",
       "    }\n",
       "\n",
       "    .dataframe tbody tr th {\n",
       "        vertical-align: top;\n",
       "    }\n",
       "\n",
       "    .dataframe thead th {\n",
       "        text-align: right;\n",
       "    }\n",
       "</style>\n",
       "<table border=\"1\" class=\"dataframe\">\n",
       "  <thead>\n",
       "    <tr style=\"text-align: right;\">\n",
       "      <th></th>\n",
       "      <th>divisi</th>\n",
       "      <th>jumlah_mudik</th>\n",
       "    </tr>\n",
       "  </thead>\n",
       "  <tbody>\n",
       "    <tr>\n",
       "      <th>0</th>\n",
       "      <td>Software Engineer</td>\n",
       "      <td>26</td>\n",
       "    </tr>\n",
       "    <tr>\n",
       "      <th>1</th>\n",
       "      <td>Business Intelligence</td>\n",
       "      <td>19</td>\n",
       "    </tr>\n",
       "    <tr>\n",
       "      <th>2</th>\n",
       "      <td>Customer Service</td>\n",
       "      <td>15</td>\n",
       "    </tr>\n",
       "    <tr>\n",
       "      <th>3</th>\n",
       "      <td>Data Engineer</td>\n",
       "      <td>13</td>\n",
       "    </tr>\n",
       "    <tr>\n",
       "      <th>4</th>\n",
       "      <td>Data Science</td>\n",
       "      <td>10</td>\n",
       "    </tr>\n",
       "    <tr>\n",
       "      <th>5</th>\n",
       "      <td>Marketing</td>\n",
       "      <td>8</td>\n",
       "    </tr>\n",
       "  </tbody>\n",
       "</table>\n",
       "</div>"
      ],
      "text/plain": [
       "                  divisi  jumlah_mudik\n",
       "0      Software Engineer            26\n",
       "1  Business Intelligence            19\n",
       "2       Customer Service            15\n",
       "3          Data Engineer            13\n",
       "4           Data Science            10\n",
       "5              Marketing             8"
      ]
     },
     "execution_count": 13,
     "metadata": {},
     "output_type": "execute_result"
    }
   ],
   "source": [
    "divisi_mudik = df_mudik.set_index('id').join(profil.set_index('id'))['divisi'].value_counts().reset_index()\n",
    "divisi_mudik['jumlah_mudik'] = divisi_mudik['divisi']\n",
    "divisi_mudik['divisi'] = divisi_mudik['index']\n",
    "divisi_mudik[['divisi', 'jumlah_mudik']]"
   ]
  },
  {
   "cell_type": "code",
   "execution_count": 14,
   "metadata": {},
   "outputs": [
    {
     "data": {
      "image/png": "[encoded data removed]",
      "text/plain": [
       "<Figure size 1080x360 with 1 Axes>"
      ]
     },
     "metadata": {
      "needs_background": "light"
     },
     "output_type": "display_data"
    }
   ],
   "source": [
    "plt.figure(figsize=(15,5))\n",
    "plt.bar(divisi_mudik['divisi'], divisi_mudik['jumlah_mudik'], color = colors)\n",
    "plt.title('Jumlah Karyawan TokoLapak yang Mudik berdasarkan Divisi')\n",
    "plt.ylabel('Jumlah Karyawan')\n",
    "\n",
    "for y in range(len(divisi)):\n",
    "    plt.text(divisi_mudik['divisi'][y], divisi_mudik['jumlah_mudik'][y] + 0.2, divisi_mudik['jumlah_mudik'][y])"
   ]
  },
  {
   "cell_type": "markdown",
   "metadata": {},
   "source": [
    "Divisi yang karyawannya paling banyak mudik adalah __Software Engineer__"
   ]
  },
  {
   "cell_type": "code",
   "execution_count": 15,
   "metadata": {},
   "outputs": [
    {
     "data": {
      "text/html": [
       "<div>\n",
       "<style scoped>\n",
       "    .dataframe tbody tr th:only-of-type {\n",
       "        vertical-align: middle;\n",
       "    }\n",
       "\n",
       "    .dataframe tbody tr th {\n",
       "        vertical-align: top;\n",
       "    }\n",
       "\n",
       "    .dataframe thead th {\n",
       "        text-align: right;\n",
       "    }\n",
       "</style>\n",
       "<table border=\"1\" class=\"dataframe\">\n",
       "  <thead>\n",
       "    <tr style=\"text-align: right;\">\n",
       "      <th></th>\n",
       "      <th>divisi</th>\n",
       "      <th>jumlah_karyawan</th>\n",
       "      <th>jumlah_mudik</th>\n",
       "      <th>rasio_mudik</th>\n",
       "    </tr>\n",
       "  </thead>\n",
       "  <tbody>\n",
       "    <tr>\n",
       "      <th>0</th>\n",
       "      <td>Software Engineer</td>\n",
       "      <td>31</td>\n",
       "      <td>26</td>\n",
       "      <td>0.84</td>\n",
       "    </tr>\n",
       "    <tr>\n",
       "      <th>1</th>\n",
       "      <td>Business Intelligence</td>\n",
       "      <td>21</td>\n",
       "      <td>19</td>\n",
       "      <td>0.90</td>\n",
       "    </tr>\n",
       "    <tr>\n",
       "      <th>2</th>\n",
       "      <td>Customer Service</td>\n",
       "      <td>15</td>\n",
       "      <td>15</td>\n",
       "      <td>1.00</td>\n",
       "    </tr>\n",
       "    <tr>\n",
       "      <th>3</th>\n",
       "      <td>Data Engineer</td>\n",
       "      <td>14</td>\n",
       "      <td>13</td>\n",
       "      <td>0.93</td>\n",
       "    </tr>\n",
       "    <tr>\n",
       "      <th>4</th>\n",
       "      <td>Data Science</td>\n",
       "      <td>10</td>\n",
       "      <td>10</td>\n",
       "      <td>1.00</td>\n",
       "    </tr>\n",
       "    <tr>\n",
       "      <th>5</th>\n",
       "      <td>Marketing</td>\n",
       "      <td>9</td>\n",
       "      <td>8</td>\n",
       "      <td>0.89</td>\n",
       "    </tr>\n",
       "  </tbody>\n",
       "</table>\n",
       "</div>"
      ],
      "text/plain": [
       "                  divisi  jumlah_karyawan  jumlah_mudik  rasio_mudik\n",
       "0      Software Engineer               31            26         0.84\n",
       "1  Business Intelligence               21            19         0.90\n",
       "2       Customer Service               15            15         1.00\n",
       "3          Data Engineer               14            13         0.93\n",
       "4           Data Science               10            10         1.00\n",
       "5              Marketing                9             8         0.89"
      ]
     },
     "execution_count": 15,
     "metadata": {},
     "output_type": "execute_result"
    }
   ],
   "source": [
    "df_perbandingan_mudik = pd.concat([divisi['divisi'], divisi['jumlah_karyawan'], divisi_mudik['jumlah_mudik']], axis= 1)\n",
    "df_perbandingan_mudik['rasio_mudik'] = (df_perbandingan_mudik['jumlah_mudik']/ df_perbandingan_mudik['jumlah_karyawan']).round(2)\n",
    "df_perbandingan_mudik"
   ]
  },
  {
   "cell_type": "code",
   "execution_count": 16,
   "metadata": {},
   "outputs": [
    {
     "data": {
      "image/png": "[encoded data removed]",
      "text/plain": [
       "<Figure size 1080x360 with 1 Axes>"
      ]
     },
     "metadata": {
      "needs_background": "light"
     },
     "output_type": "display_data"
    }
   ],
   "source": [
    "plt.figure(figsize=(15, 5))\n",
    "plt.bar(df_perbandingan_mudik['divisi'], df_perbandingan_mudik['rasio_mudik'], color = colors)\n",
    "plt.title('Rasio Karyawan TokoLapak yang Mudik berdasarkan Divisi')\n",
    "plt.ylabel('Rasio Karyawan')\n",
    "\n",
    "for z in range(len(df_perbandingan_mudik)):\n",
    "    plt.text(df_perbandingan_mudik['divisi'][z], df_perbandingan_mudik['rasio_mudik'][z] + 0.01, df_perbandingan_mudik['rasio_mudik'][z])"
   ]
  },
  {
   "cell_type": "markdown",
   "metadata": {},
   "source": [
    "Divisi yang karyawannya mudik semua yaitu Divisi __Customer Service dan Divisi Data Science__"
   ]
  },
  {
   "cell_type": "markdown",
   "metadata": {},
   "source": [
    "### 5. Jumlah orang yang kemungkinan bisa dititipkan [Lapis Legit Zulaikha](http://www.bogasari.com/en/success-story/lapis-lagit-zulaikha-hobi-di-masa-muda-raih-sukses-di-usia-tua) (Asli Medan)"
   ]
  },
  {
   "cell_type": "code",
   "execution_count": 17,
   "metadata": {},
   "outputs": [
    {
     "name": "stdout",
     "output_type": "stream",
     "text": [
      "Jumlah orang yang kemungkinan bisa dititipin Lapis Legit Zulaikha ada 9 orang\n"
     ]
    }
   ],
   "source": [
    "zulaikha = lokasi_lebaran.groupby('lokasi_dominan').count().reset_index()\n",
    "zulaikha = int(zulaikha[zulaikha['lokasi_dominan'] == 'Kota Medan']['tanggal'])\n",
    "\n",
    "print('Jumlah orang yang kemungkinan bisa dititipin Lapis Legit Zulaikha ada {} orang'.format(str(zulaikha)))"
   ]
  }
 ],
 "metadata": {
  "kernelspec": {
   "display_name": "Python 3",
   "language": "python",
   "name": "python3"
  },
  "language_info": {
   "codemirror_mode": {
    "name": "ipython",
    "version": 3
   },
   "file_extension": ".py",
   "mimetype": "text/x-python",
   "name": "python",
   "nbconvert_exporter": "python",
   "pygments_lexer": "ipython3",
   "version": "3.7.3"
  },
  "toc": {
   "base_numbering": 1,
   "nav_menu": {},
   "number_sections": true,
   "sideBar": true,
   "skip_h1_title": false,
   "title_cell": "Table of Contents",
   "title_sidebar": "Contents",
   "toc_cell": false,
   "toc_position": {},
   "toc_section_display": true,
   "toc_window_display": false
  }
 },
 "nbformat": 4,
 "nbformat_minor": 2
}
